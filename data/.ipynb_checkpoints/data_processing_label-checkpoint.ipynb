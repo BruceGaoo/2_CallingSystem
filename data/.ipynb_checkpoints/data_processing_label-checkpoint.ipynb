{
 "cells": [
  {
   "cell_type": "code",
   "execution_count": 15,
   "metadata": {},
   "outputs": [],
   "source": [
    "import numpy as np\n",
    "import pandas as pd\n",
    "import re\n",
    "\n",
    "pd.set_option('display.max_rows',None)"
   ]
  },
  {
   "cell_type": "code",
   "execution_count": 16,
   "metadata": {},
   "outputs": [],
   "source": [
    "message_ori_df = pd.read_table('./model_not_match.txt', header=None, sep='\\n')\n",
    "message_ori_df.columns = ['message']\n",
    "a = list(message_ori_df['message'])"
   ]
  },
  {
   "cell_type": "code",
   "execution_count": 17,
   "metadata": {},
   "outputs": [
    {
     "data": {
      "text/plain": [
       "'{\"in_node\": \"1.1\", \"out_node\": -99, \"msg\": \"\", \"pattern\": []}'"
      ]
     },
     "execution_count": 17,
     "metadata": {},
     "output_type": "execute_result"
    }
   ],
   "source": [
    "b = a[0]\n",
    "b"
   ]
  },
  {
   "cell_type": "code",
   "execution_count": 18,
   "metadata": {
    "collapsed": true
   },
   "outputs": [],
   "source": [
    "reg = r'^{\"in_node\": \"' + r'(\\d.\\d)' + r'\", \"out_node\": -99, \"msg\": \"' + r'(.*?)' + r'\", \"pattern\": []}$'"
   ]
  },
  {
   "cell_type": "code",
   "execution_count": 19,
   "metadata": {
    "collapsed": true
   },
   "outputs": [],
   "source": [
    "reg = r'^{\"in_node\": \"(\\d.\\d)\", \"out_node\": -99, \"msg\": \"(.*?)\", \"pattern\": []}$'"
   ]
  },
  {
   "cell_type": "code",
   "execution_count": 20,
   "metadata": {},
   "outputs": [],
   "source": [
    "reg = r'^{\"in_node\": \"(\\d.\\d)\", \"out_node\": -99, \"msg\": \"(.*?)\", \"pattern\": \\[\\]}$'"
   ]
  },
  {
   "cell_type": "code",
   "execution_count": 21,
   "metadata": {},
   "outputs": [],
   "source": [
    "reg_compile = re.compile(reg)"
   ]
  },
  {
   "cell_type": "code",
   "execution_count": 22,
   "metadata": {},
   "outputs": [],
   "source": [
    "message_row = list(re.findall(reg_compile, b)[0])"
   ]
  },
  {
   "cell_type": "code",
   "execution_count": 23,
   "metadata": {},
   "outputs": [],
   "source": [
    "message_reg = []\n",
    "for i in a:\n",
    "    b = re.findall(reg_compile, i)\n",
    "    if not b == []:\n",
    "        message_reg.append(list(b[0]))"
   ]
  },
  {
   "cell_type": "code",
   "execution_count": 24,
   "metadata": {},
   "outputs": [],
   "source": [
    "message_reg_df = pd.DataFrame(message_reg, columns = ['input_node', 'msg'])"
   ]
  },
  {
   "cell_type": "code",
   "execution_count": 25,
   "metadata": {},
   "outputs": [],
   "source": [
    "message_fil_df = message_reg_df[message_reg_df['msg'] != '']\n",
    "message_fil_df.index = list(range(message_fil_df.shape[0]))"
   ]
  },
  {
   "cell_type": "code",
   "execution_count": 49,
   "metadata": {},
   "outputs": [
    {
     "data": {
      "text/plain": [
       "1.1    123\n",
       "2.1    125\n",
       "2.2     10\n",
       "3.2    119\n",
       "3.4     41\n",
       "3.5     11\n",
       "4.1     91\n",
       "4.2     14\n",
       "4.4     16\n",
       "5.3     11\n",
       "5.5     13\n",
       "5.6      4\n",
       "6.5      1\n",
       "Name: input_node, dtype: int64"
      ]
     },
     "execution_count": 49,
     "metadata": {},
     "output_type": "execute_result"
    }
   ],
   "source": [
    "message_fil_df['input_node'].value_counts(sort=True).sort_index()"
   ]
  },
  {
   "cell_type": "code",
   "execution_count": 50,
   "metadata": {},
   "outputs": [],
   "source": [
    "message_fil_s11 = message_fil_df[message_fil_df['input_node'] == '1.1']['msg']\n",
    "message_fil_s21 = message_fil_df[message_fil_df['input_node'] == '2.1']['msg']\n",
    "message_fil_s22 = message_fil_df[message_fil_df['input_node'] == '2.2']['msg']\n",
    "message_fil_s32 = message_fil_df[message_fil_df['input_node'] == '3.2']['msg']\n",
    "message_fil_s34 = message_fil_df[message_fil_df['input_node'] == '3.4']['msg']\n",
    "message_fil_s35 = message_fil_df[message_fil_df['input_node'] == '3.5']['msg']\n",
    "message_fil_s41 = message_fil_df[message_fil_df['input_node'] == '4.1']['msg']\n",
    "message_fil_s42 = message_fil_df[message_fil_df['input_node'] == '4.2']['msg']\n",
    "message_fil_s44 = message_fil_df[message_fil_df['input_node'] == '4.4']['msg']\n",
    "message_fil_s53 = message_fil_df[message_fil_df['input_node'] == '5.3']['msg']\n",
    "message_fil_s55 = message_fil_df[message_fil_df['input_node'] == '5.5']['msg']\n",
    "message_fil_s56 = message_fil_df[message_fil_df['input_node'] == '5.6']['msg']\n",
    "message_fil_s65 = message_fil_df[message_fil_df['input_node'] == '6.5']['msg']"
   ]
  },
  {
   "cell_type": "code",
   "execution_count": 51,
   "metadata": {},
   "outputs": [
    {
     "data": {
      "text/plain": [
       "0             江\n",
       "1           你哪里\n",
       "2             哎\n",
       "3             啊\n",
       "4             啊\n",
       "5            嗯嗯\n",
       "6        嗯嗯好的嗯嗯\n",
       "7            就算\n",
       "8          是什麽哈\n",
       "9             嗯\n",
       "10            恩\n",
       "11       要是能连这里\n",
       "12            啊\n",
       "13           嗯哼\n",
       "14          纳什麽\n",
       "15            诶\n",
       "16           嗯哼\n",
       "17            嗯\n",
       "18         五三四的\n",
       "19           嗯哼\n",
       "20            啊\n",
       "21            嗯\n",
       "22            和\n",
       "23           嗯嗯\n",
       "24       刚才又商品他\n",
       "25          哎然后\n",
       "26         所以说诶\n",
       "27          干什么\n",
       "28            啊\n",
       "29           嗯嗯\n",
       "30         再见嗯说\n",
       "31            啊\n",
       "32            哎\n",
       "33           嗯嗯\n",
       "34      有玩意哎呀你看\n",
       "35            哎\n",
       "36       是在怎么办啊\n",
       "37            哦\n",
       "38            哦\n",
       "39         哦哦你好\n",
       "40          开始呢\n",
       "41            天\n",
       "42          看你呗\n",
       "43           你好\n",
       "44           嗯嗯\n",
       "45        他从对话了\n",
       "46            啊\n",
       "47           你学\n",
       "48          好谢谢\n",
       "49          多少钱\n",
       "50         你好幽默\n",
       "51          四十四\n",
       "52            啊\n",
       "53            算\n",
       "54            啊\n",
       "55            嗯\n",
       "56       行啊反正都是\n",
       "57          啊你好\n",
       "58            波\n",
       "59          城市小\n",
       "60            哦\n",
       "61      嗯嗯嗯嗯嗯嗯呃\n",
       "62          嗯嗯嗯\n",
       "63           嗯嗯\n",
       "64            哦\n",
       "65            哎\n",
       "66            哎\n",
       "67           到了\n",
       "68            办\n",
       "69          好好好\n",
       "70            嗯\n",
       "71            啊\n",
       "72           嗯嗯\n",
       "73           需要\n",
       "74            啊\n",
       "75          哎你好\n",
       "76       喂你好你好啊\n",
       "77            啊\n",
       "78           没用\n",
       "79           您好\n",
       "80            恩\n",
       "81            哎\n",
       "82            啊\n",
       "83           再见\n",
       "84          温呀哎\n",
       "85            哦\n",
       "86         请她一点\n",
       "87            啊\n",
       "88            啊\n",
       "89          全部都\n",
       "90            啊\n",
       "91        不客气再见\n",
       "92            诶\n",
       "93            哦\n",
       "94       妈妈再见啊啊\n",
       "95     我我我要爸爸不答\n",
       "96           嗯嗯\n",
       "97          哪里啊\n",
       "98           嗯嗯\n",
       "99            哦\n",
       "100          嗯嗯\n",
       "101        嗯嗯嗯嗯\n",
       "102          七位\n",
       "103           我\n",
       "104          卡号\n",
       "105          哦哦\n",
       "106       哎呦好了吧\n",
       "107           哦\n",
       "108       我觉得你呗\n",
       "109           哎\n",
       "110           哎\n",
       "111          哎呀\n",
       "112        喂喂你好\n",
       "113          嗯嗯\n",
       "114       到我们公司\n",
       "115          哭啊\n",
       "116          不要\n",
       "117       你又有事吗\n",
       "118         哎你好\n",
       "119          我在\n",
       "120           哦\n",
       "121          嗯嗯\n",
       "122          啊哦\n",
       "Name: msg, dtype: object"
      ]
     },
     "execution_count": 51,
     "metadata": {},
     "output_type": "execute_result"
    }
   ],
   "source": [
    "message_fil_s11"
   ]
  },
  {
   "cell_type": "markdown",
   "metadata": {},
   "source": [
    "1.1 “嗯、是、啊”之类的"
   ]
  },
  {
   "cell_type": "code",
   "execution_count": 52,
   "metadata": {},
   "outputs": [
    {
     "data": {
      "text/plain": [
       "123                     怎么放心\n",
       "124                       喂哎\n",
       "125                        喂\n",
       "126                        啊\n",
       "127                    哎哎我网络\n",
       "128                     谢谢再见\n",
       "129                       拜拜\n",
       "130                       嗯嗯\n",
       "131                     那个你好\n",
       "132                       哎呀\n",
       "133                我没有啊我别的地呀\n",
       "134                   以及透支了吗\n",
       "135                    啊达到啊呃\n",
       "136                     四四点呢\n",
       "137                        喂\n",
       "138                       再见\n",
       "139                      银行呢\n",
       "140                 高将于今天不高啊\n",
       "141           哦这个我是保证不再考虑吗能能\n",
       "142                     嗯嗯嗯嗯\n",
       "143    那是两百九十点我不是给你打过来吗三百一十多\n",
       "144                      啊好好\n",
       "145                      再见哎\n",
       "146                嗯好的请稍等提的话\n",
       "147                       八四\n",
       "148                      哪里呀\n",
       "149                        喂\n",
       "150                        喂\n",
       "151                        哎\n",
       "152                        哎\n",
       "153                 邓请按一重录请按\n",
       "154                        我\n",
       "155                       拜拜\n",
       "156                     城路请按\n",
       "157                        啊\n",
       "158                        喂\n",
       "159                     嗯嗯你谁\n",
       "160                  所以经办好了吗\n",
       "161                        啊\n",
       "162                        啊\n",
       "163                      上网么\n",
       "164                    我们不行唉\n",
       "165                       嗯嗯\n",
       "166                    在哪里集团\n",
       "167                        喂\n",
       "168                      喂你好\n",
       "169                  耐心重录请按二\n",
       "170                       拜拜\n",
       "171                      喂你好\n",
       "172       好好嗯嗯好再见我想就涉及你们公司没房\n",
       "173                      明白了\n",
       "174                        啊\n",
       "175                    听成路喜爱\n",
       "176                   乌鲁木齐呀唉\n",
       "177                       八四\n",
       "178                    西城路演唉\n",
       "179                       嗯哼\n",
       "180                        啊\n",
       "181                   三百七十三元\n",
       "182                       哎呀\n",
       "183                       嗯嗯\n",
       "184                     嗯那就好\n",
       "185                    嗯先付款呢\n",
       "186                    诶我告诉的\n",
       "187                       嗯嗯\n",
       "188                   那么说了停歇\n",
       "189                        啊\n",
       "190                       嗯嗯\n",
       "191                        喂\n",
       "192         我我我我我说我我我我先买吧加盐哈\n",
       "193                        大\n",
       "194                       八四\n",
       "195                       嗯嗯\n",
       "196                    五百五百杰\n",
       "197                   我刚刚换上吧\n",
       "198                       嗯哼\n",
       "199                      讹人呢\n",
       "200                        啊\n",
       "201                        哎\n",
       "202                    哪个飞机呢\n",
       "203                    那我听不懂\n",
       "204                       啊啊\n",
       "205                     转怎么了\n",
       "206                       发送\n",
       "207                    那个付掉嘞\n",
       "208                   不客气不客气\n",
       "209                    啊那个意思\n",
       "210         那你再帮我看看我的资产全部订单呢\n",
       "211                       好的\n",
       "212                 下午加五个月还了\n",
       "213                     嗯嗯嗯嗯\n",
       "214                      八送请\n",
       "215       一小时之内我保证存上稍等一下之之内哦\n",
       "216                    哎你好辽阳\n",
       "217                  请按一重录请按\n",
       "218                       哎呀\n",
       "219                        喂\n",
       "220                       怎麽\n",
       "221                     嗯嗯新政\n",
       "222                        啊\n",
       "223                        哎\n",
       "224                     嗯嗯嗯嗯\n",
       "225                        啊\n",
       "226                     程度请按\n",
       "227                       再见\n",
       "228                      收到啊\n",
       "229                      没意思\n",
       "230                        啊\n",
       "231                       再见\n",
       "232               我才买的我过这些其实\n",
       "233                     八送请按\n",
       "234                       一个\n",
       "235                 请按一重录请按按\n",
       "236                        喂\n",
       "237                        啊\n",
       "238                      哎你好\n",
       "239                       再见\n",
       "240                  请按一重录请按\n",
       "241                    多嗯多少钱\n",
       "242                        喂\n",
       "243                   今天到三十号\n",
       "244                       你好\n",
       "245                       嗯嗯\n",
       "246                        嗯\n",
       "247                     城路请按\n",
       "Name: msg, dtype: object"
      ]
     },
     "execution_count": 52,
     "metadata": {},
     "output_type": "execute_result"
    }
   ],
   "source": [
    "message_fil_s21"
   ]
  },
  {
   "cell_type": "code",
   "execution_count": null,
   "metadata": {
    "collapsed": true
   },
   "outputs": [],
   "source": []
  },
  {
   "cell_type": "code",
   "execution_count": 53,
   "metadata": {},
   "outputs": [
    {
     "data": {
      "text/plain": [
       "248       谁呀\n",
       "249        喂\n",
       "250        啊\n",
       "251        喂\n",
       "252       哎呀\n",
       "253       药材\n",
       "254    你到底谁呀\n",
       "255      哪个李\n",
       "256        喂\n",
       "257      人不到\n",
       "Name: msg, dtype: object"
      ]
     },
     "execution_count": 53,
     "metadata": {},
     "output_type": "execute_result"
    }
   ],
   "source": [
    "message_fil_s22"
   ]
  },
  {
   "cell_type": "code",
   "execution_count": 54,
   "metadata": {},
   "outputs": [
    {
     "data": {
      "text/plain": [
       "258                          今天下午\n",
       "259                        那个你们讲嘛\n",
       "260                            嗯嗯\n",
       "261                     八送请按一重六点二\n",
       "262                     发送请按一重录请按\n",
       "263                           二十日\n",
       "264                    八送请按一城路请按二\n",
       "265                        哎不客气一下\n",
       "266                       嗯就是稍等一下\n",
       "267                       广知道这是我们\n",
       "268     哪哪一份嘛买一个你说这个我不知道哎哪一个哪一个新款\n",
       "269                           啊嗯嗯\n",
       "270                      送请按几重录请按\n",
       "271                     发送请按一重录请按\n",
       "272                     八送请按一重入前二\n",
       "273                     八送请按一重录你唉\n",
       "274                        买几成路结案\n",
       "275                          而太多了\n",
       "276                    发送请按一重录请按二\n",
       "277                         今天下午吗\n",
       "278                     那你们这个那人演示\n",
       "279                            不好\n",
       "280                    八送请按一城路请按二\n",
       "281                        你说什么呢喂\n",
       "282                          那个怎么\n",
       "283                            嗯嗯\n",
       "284                         您好请那个\n",
       "285                             哎\n",
       "286                          哦一百二\n",
       "287                     发送请按一城路西岸\n",
       "288                     发送请按一重录请按\n",
       "289                     大胜点击重录请按二\n",
       "290                         喂你好有意\n",
       "291                     发送过来一城路奇案\n",
       "292                           知道了\n",
       "293                        那那那那那啊\n",
       "294                             喂\n",
       "295                     大政请按一重录请按\n",
       "296                      发送请按一城路呀\n",
       "297                           嗯不是\n",
       "298                           那时的\n",
       "299                     望我我我怎么讲大大\n",
       "300                    发送请按一重录请按二\n",
       "301                         什么时候啊\n",
       "302                    啊我全部打到卡上了吗\n",
       "303                            嗯哼\n",
       "304                             嗯\n",
       "305                            嗯哼\n",
       "306                            嗯嗯\n",
       "307                            不是\n",
       "308                    八送请按一重录请按二\n",
       "309                           啊我了\n",
       "310                             嗯\n",
       "311                         我从银行卡\n",
       "312                       喂你好青海移动\n",
       "313                           什么呢\n",
       "314                          啊就是我\n",
       "315                    发送请按一重录请按二\n",
       "316               我已经我已经还掉了我已经付掉追\n",
       "317                    发送请按一城路请按二\n",
       "318                     三送请按一城路钱唉\n",
       "319                           这样吧\n",
       "320                          十块钱呢\n",
       "321                     八送请按一城路奇案\n",
       "322                            嗯嗯\n",
       "323                           停电吗\n",
       "324                         不客气嗯嗯\n",
       "325                     发送请按一重录请按\n",
       "326                    大送请按一重录请按二\n",
       "327                    大众请按一重录请按二\n",
       "328                       好这边的客户吧\n",
       "329                    八送请按一重录请按二\n",
       "330                          那我就花\n",
       "331                            嗯哼\n",
       "332                        二十号开始的\n",
       "333                         哪一个计划\n",
       "334                    发送请按一重录请按二\n",
       "335                        哎今年还是软\n",
       "336                           知道啊\n",
       "337                    那正请按一重录请按二\n",
       "338                            嗯那\n",
       "339                             哎\n",
       "340                             喂\n",
       "341                          为什么呢\n",
       "342                            嗯哼\n",
       "343                         下个月账户\n",
       "344                           被清楚\n",
       "345                          嗯嗯嗯嗯\n",
       "346                 我今天下午已经存存款进去了\n",
       "347                     发送请按一重录请按\n",
       "348                    八送请按一重录请按二\n",
       "349                     八送请按几成路第二\n",
       "350                          好好的快\n",
       "351                      二十二十一二号吧\n",
       "352                            一个\n",
       "353                你直接打一扣啊银行卡里有钱呐\n",
       "354                          是哪个呢\n",
       "355                           查不到\n",
       "356                  扣了已经扣了你们当地得了\n",
       "357                     八送请按一重录请按\n",
       "358                     发送请按一城路前二\n",
       "359                     发送请按一重录请按\n",
       "360                     发送请按几成路奇案\n",
       "361                          不是不是\n",
       "362                            如果\n",
       "363                     大众请按一重录请按\n",
       "364                          知道知道\n",
       "365    呃对我刚我跟咱们那个崔永元说的因为我们那个他公司啊是\n",
       "366                             啊\n",
       "367                     八送请按几成路请按\n",
       "368                          城路情爱\n",
       "369                    发送请按一重录请按二\n",
       "370                            那啊\n",
       "371                            嗯嗯\n",
       "372                    恩喂你好已经有依据了\n",
       "373                            嗯哼\n",
       "374                       啊知道了知道的\n",
       "375                     发送请按一城路请按\n",
       "376                           啥时候\n",
       "Name: msg, dtype: object"
      ]
     },
     "execution_count": 54,
     "metadata": {},
     "output_type": "execute_result"
    }
   ],
   "source": [
    "message_fil_s32"
   ]
  },
  {
   "cell_type": "code",
   "execution_count": 55,
   "metadata": {},
   "outputs": [
    {
     "data": {
      "text/plain": [
       "377                                  多少钱\n",
       "378                                你啥用这个\n",
       "379                            不客气感谢来电再见\n",
       "380                             喂你是哪个公司的\n",
       "381                              后来邢衡在教你\n",
       "382                                    嗯\n",
       "383                            你说马上买了八号啊\n",
       "384                                四百五是吧\n",
       "385                                 还有两个\n",
       "386                                   几点\n",
       "387                              我问你是哪一家\n",
       "388                           我听一下什么七百多呢\n",
       "389                                    恩\n",
       "390                               我说是哪一家\n",
       "391                                    嗯\n",
       "392                        你是哪个公司的规定还是非洲\n",
       "393                                  啊啊啊\n",
       "394                              我还款那这个月\n",
       "395                                    喂\n",
       "396                           零零一环零零七五方便\n",
       "397                               嗯嗯嗯嗯嗯嗯\n",
       "398                                    喂\n",
       "399                                   零幺\n",
       "400                               就九百三十四\n",
       "401                                  不知道\n",
       "402                               他们阳的规范\n",
       "403                          我房子结款我在那个机场\n",
       "404                                 我不知道\n",
       "405    我请问一下我这个我就是在负责人啦但是就是一千块钱我跟进去然后我是想\n",
       "406                                哎两个单位\n",
       "407                             外大到实行实名制\n",
       "408                              就去哪网嘛是吧\n",
       "409                           对美国扣三百七十七号\n",
       "410                            我不知道了如果别人\n",
       "411                               他们说了可以\n",
       "412                              那我我以为花钱\n",
       "413                            好好谢谢谢谢谢谢嗯\n",
       "414                                 就是会接\n",
       "415                                    喂\n",
       "416                                   知道\n",
       "417                                喂你还款呢\n",
       "Name: msg, dtype: object"
      ]
     },
     "execution_count": 55,
     "metadata": {},
     "output_type": "execute_result"
    }
   ],
   "source": [
    "message_fil_s34"
   ]
  },
  {
   "cell_type": "code",
   "execution_count": 56,
   "metadata": {},
   "outputs": [
    {
     "data": {
      "text/plain": [
       "418     我父亲去世了你能听清吗\n",
       "419            嗯嗯嗯嗯\n",
       "420               八\n",
       "421             哦好好\n",
       "422        水容易借款到期啊\n",
       "423     我的现在看看看看那个吧\n",
       "424    哦好好好好好好好我知道了\n",
       "425              喂噻\n",
       "426               啊\n",
       "427             嗯谁的\n",
       "428          我后面去世了\n",
       "Name: msg, dtype: object"
      ]
     },
     "execution_count": 56,
     "metadata": {},
     "output_type": "execute_result"
    }
   ],
   "source": [
    "message_fil_s35"
   ]
  },
  {
   "cell_type": "code",
   "execution_count": 57,
   "metadata": {},
   "outputs": [
    {
     "data": {
      "text/plain": [
       "429                   八送请按一城路请按\n",
       "430                        正常后天\n",
       "431                         二十号\n",
       "432                          嗯嗯\n",
       "433                    什么什么什么网站\n",
       "434                          哎我\n",
       "435                  八送请按一重录请按二\n",
       "436                     你认识华北大地\n",
       "437                           奥\n",
       "438                         嗯款的\n",
       "439                        你们你们\n",
       "440                           喂\n",
       "441                          嗯嗯\n",
       "442                           啊\n",
       "443    长时间未选择操作我们将为您挂机感谢您的来电再见嗯\n",
       "444                         我已经\n",
       "445                   发送请按一城路结案\n",
       "446                          我想\n",
       "447    长时间未选择操作我们将为您挂机感谢您的来电再见嗯\n",
       "448                  八送请按几成路请按二\n",
       "449                        啊缺点啊\n",
       "450                           喂\n",
       "451                           后\n",
       "452                          嗯嗯\n",
       "453                           啊\n",
       "454                           喂\n",
       "455                     哦这边是了嗯嗯\n",
       "456                           门\n",
       "457    长时间我选择操作我们将为您挂机感谢您的来电再见嗯\n",
       "458                    那这营业厅布料谈\n",
       "459        长时间未选择操作我们将为您挂机感谢您的来\n",
       "460                           啊\n",
       "461                   今天已经给我扣费了\n",
       "462                          明显\n",
       "463                           哦\n",
       "464                       房屋租金吧\n",
       "465                    但是我已经弄好了\n",
       "466                           恩\n",
       "467    长时间未选择操作我们将为您挂机感谢您的来电再见嗯\n",
       "468                      我说我我问你\n",
       "469                          嗯那\n",
       "470                   八送请按一重录请按\n",
       "471                          恩恩\n",
       "472                       当然两千买\n",
       "473                          嗯嗯\n",
       "474                          二楼\n",
       "475                          哎呀\n",
       "476                     白啊区号手机啊\n",
       "477                     我给我不太好吧\n",
       "478                   发送请按一重录请按\n",
       "479    长时间我选择操作我们将为您挂机感谢您的来电再见嗯\n",
       "480                     今天是查不到的\n",
       "481                          图啊\n",
       "482                           哦\n",
       "483                           啊\n",
       "484                     不太清楚这个都\n",
       "485                       我觉得她说\n",
       "486                          嗯嗯\n",
       "487    长时间会选择操作我们将为您挂机感谢您的来电再见嗯\n",
       "488                       今天多少号\n",
       "489                           喂\n",
       "490                          嗯哼\n",
       "491                  八送请按一重录请按二\n",
       "492                           啊\n",
       "493                          嗯哼\n",
       "494                      听到我说话吗\n",
       "495    长时间未选择操作我们将为您挂机感谢您的来电再见嗯\n",
       "496    长时间我选择操作我们将为您挂机感谢您的来电再见嗯\n",
       "497                          嗯嗯\n",
       "498    长时间未选择操作我们将为您挂机感谢您的来电再见嗯\n",
       "499                    哦不知道听不懂呢\n",
       "500                          一千\n",
       "501                        已经给啦\n",
       "502                           嗯\n",
       "503    长时间未选择操作我们将为您挂机感谢您的来电再见嗯\n",
       "504                           啊\n",
       "505                          超了\n",
       "506                           喂\n",
       "507                       是嗯嗯然后\n",
       "508    长时间未选择操作我们将为您挂机感谢您的来电再见嗯\n",
       "509                           啊\n",
       "510                         我说呢\n",
       "511                     哦反正哪个卡上\n",
       "512    长时间会选择操作我们将为您挂机感谢您的来电再见嗯\n",
       "513                           哎\n",
       "514    长时间未选择操作我们将为您挂机感谢您的来电再见嗯\n",
       "515                           哦\n",
       "516                         让我办\n",
       "517                          嗯嗯\n",
       "518                           喂\n",
       "519    长时间未选择操作我们再为您挂机感谢您的来电再见嗯\n",
       "Name: msg, dtype: object"
      ]
     },
     "execution_count": 57,
     "metadata": {},
     "output_type": "execute_result"
    }
   ],
   "source": [
    "message_fil_s41"
   ]
  },
  {
   "cell_type": "code",
   "execution_count": 58,
   "metadata": {},
   "outputs": [
    {
     "data": {
      "text/plain": [
       "520                     嗯二十号二十二号吧\n",
       "521                         你听不到吗\n",
       "522                             喂\n",
       "523                             喂\n",
       "524                李总因为现在我一到了一点困难\n",
       "525                             哦\n",
       "526                          哦知道了\n",
       "527                    啊我知道我知道我知道\n",
       "528    我说已经付掉了不用不用宽限我已经已经还进去了不用关系\n",
       "529                          幺八三报\n",
       "530                           一百的\n",
       "531                          啊知道的\n",
       "532                           嗯请说\n",
       "533                             喂\n",
       "Name: msg, dtype: object"
      ]
     },
     "execution_count": 58,
     "metadata": {},
     "output_type": "execute_result"
    }
   ],
   "source": [
    "message_fil_s42"
   ]
  },
  {
   "cell_type": "code",
   "execution_count": 59,
   "metadata": {},
   "outputs": [
    {
     "data": {
      "text/plain": [
       "534             哎呀\n",
       "535            两毛啊\n",
       "536              我\n",
       "537              啊\n",
       "538    我怎么玩我的银行卡里面\n",
       "539             嗯嗯\n",
       "540            哪里呢\n",
       "541              啊\n",
       "542           哦就是啊\n",
       "543              哦\n",
       "544         我问你多少钱\n",
       "545          不是你们去\n",
       "546           一点是吧\n",
       "547     多少钱你一共多少钱呢\n",
       "548            有知道\n",
       "549             嗯嗯\n",
       "Name: msg, dtype: object"
      ]
     },
     "execution_count": 59,
     "metadata": {},
     "output_type": "execute_result"
    }
   ],
   "source": [
    "message_fil_s44"
   ]
  },
  {
   "cell_type": "code",
   "execution_count": 60,
   "metadata": {},
   "outputs": [
    {
     "data": {
      "text/plain": [
       "550                   我的\n",
       "551               嗯差不多什么\n",
       "552               三天的那个啊\n",
       "553    啊你你你你你等一下咱们是哪个里面啊\n",
       "554                嗯差不多吧\n",
       "555                  等一下\n",
       "556                  咱们是\n",
       "557             我你听到我说话吗\n",
       "558              额额二十一号吧\n",
       "559                 好好好好\n",
       "560                    啊\n",
       "Name: msg, dtype: object"
      ]
     },
     "execution_count": 60,
     "metadata": {},
     "output_type": "execute_result"
    }
   ],
   "source": [
    "message_fil_s53"
   ]
  },
  {
   "cell_type": "code",
   "execution_count": 61,
   "metadata": {},
   "outputs": [
    {
     "data": {
      "text/plain": [
       "561              啊没有啊你说的是哪里的贷款诶\n",
       "562                          嗯嗯\n",
       "563                          嗯嗯\n",
       "564                        嗯哪一家\n",
       "565                          嗯嗯\n",
       "566          因为我之前跟我们做东兴工作人员疏忽了\n",
       "567                      哎你好是这样\n",
       "568                          再见\n",
       "569                           啊\n",
       "570                       哦你是多少\n",
       "571                           喂\n",
       "572    我给他们说了他刚是给咱们客服电话说了客户给你说了\n",
       "573                      为您是哪一家\n",
       "Name: msg, dtype: object"
      ]
     },
     "execution_count": 61,
     "metadata": {},
     "output_type": "execute_result"
    }
   ],
   "source": [
    "message_fil_s55"
   ]
  },
  {
   "cell_type": "code",
   "execution_count": 62,
   "metadata": {},
   "outputs": [
    {
     "data": {
      "text/plain": [
       "574         多少钱\n",
       "575      嗯嗯不清那阵\n",
       "576       嗯okok\n",
       "577    我记什么钱我问你\n",
       "Name: msg, dtype: object"
      ]
     },
     "execution_count": 62,
     "metadata": {},
     "output_type": "execute_result"
    }
   ],
   "source": [
    "message_fil_s56"
   ]
  },
  {
   "cell_type": "code",
   "execution_count": 63,
   "metadata": {},
   "outputs": [
    {
     "data": {
      "text/plain": [
       "578    那个多少钱\n",
       "Name: msg, dtype: object"
      ]
     },
     "execution_count": 63,
     "metadata": {},
     "output_type": "execute_result"
    }
   ],
   "source": [
    "message_fil_s65"
   ]
  },
  {
   "cell_type": "code",
   "execution_count": null,
   "metadata": {
    "collapsed": true
   },
   "outputs": [],
   "source": []
  }
 ],
 "metadata": {
  "kernelspec": {
   "display_name": "Python 3",
   "language": "python",
   "name": "python3"
  },
  "language_info": {
   "codemirror_mode": {
    "name": "ipython",
    "version": 3
   },
   "file_extension": ".py",
   "mimetype": "text/x-python",
   "name": "python",
   "nbconvert_exporter": "python",
   "pygments_lexer": "ipython3",
   "version": "3.6.3"
  }
 },
 "nbformat": 4,
 "nbformat_minor": 2
}
